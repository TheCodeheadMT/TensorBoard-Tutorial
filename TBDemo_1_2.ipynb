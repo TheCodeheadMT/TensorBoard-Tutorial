{
 "cells": [
  {
   "attachments": {},
   "cell_type": "markdown",
   "metadata": {
    "colab_type": "text"
   },
   "source": [
    "This demonstration is based off the companion notebook for the book [Deep Learning with Python, Second Edition](https://www.manning.com/books/deep-learning-with-python-second-edition?a_aid=keras&a_bid=76564dff). This notebook was generated for TensorFlow 2.6, but is current up to 2.12.0."
   ]
  },
  {
   "cell_type": "code",
   "execution_count": 26,
   "metadata": {},
   "outputs": [
    {
     "name": "stdout",
     "output_type": "stream",
     "text": [
      "2.12.0\n"
     ]
    }
   ],
   "source": [
    "import tensorflow as tf\n",
    "import numpy as np\n",
    "import time\n",
    "from tensorflow import keras\n",
    "from tensorflow.keras import layers\n",
    "from tensorflow.keras.callbacks import TensorBoard\n",
    "from tensorflow.keras.metrics import AUC\n",
    "\n",
    "print(tf.__version__)"
   ]
  },
  {
   "attachments": {},
   "cell_type": "markdown",
   "metadata": {
    "colab_type": "text"
   },
   "source": [
    "## Demo Part I - Add TensorBoard to a model \n",
    "### The IMDB dataset\n",
    "### ML problem: Binary classification, positive or negative reviews?"
   ]
  },
  {
   "cell_type": "markdown",
   "metadata": {
    "colab_type": "text"
   },
   "source": [
    "**Loading the IMDB dataset**"
   ]
  },
  {
   "cell_type": "code",
   "execution_count": 27,
   "metadata": {
    "colab_type": "code"
   },
   "outputs": [],
   "source": [
    "from tensorflow.keras.datasets import imdb\n",
    "\n",
    "# Load training and test data from imdb dataset\n",
    "(train_data, train_labels), (test_data, test_labels) = imdb.load_data(\n",
    "    num_words=10000)\n",
    "\n",
    "# Values of text from this dataset integer encoded; this first sample\n",
    "# train_data[0]\n",
    "\n",
    "# The label for the first sample (1 or 0)\n",
    "# train_labels[0]\n",
    "\n",
    "# The number of trainign samples 1000 total\n",
    "# max([max(sequence) for sequence in train_data])"
   ]
  },
  {
   "cell_type": "markdown",
   "metadata": {
    "colab_type": "text"
   },
   "source": [
    "**Decoding reviews back to text**"
   ]
  },
  {
   "cell_type": "code",
   "execution_count": 28,
   "metadata": {
    "colab_type": "code"
   },
   "outputs": [
    {
     "name": "stdout",
     "output_type": "stream",
     "text": [
      "? this film was just brilliant casting location scenery story direction everyone's really suited the part they played and you could just imagine being there robert ? is an amazing actor and now the same being director ? father came from the same scottish island as myself so i loved the fact there was a real connection with this film the witty remarks throughout the film were great it was just brilliant so much that i bought the film as soon as it was released for ? and would recommend it to everyone to watch and the fly fishing was amazing really cried at the end it was so sad and you know what they say if you cry at a film it must have been good and this definitely was also ? to the two little boy's that played the ? of norman and paul they were just brilliant children are often left out of the ? list i think because the stars that play them all grown up are such a big profile for the whole film but these children are amazing and should be praised for what they have done don't you think the whole story was so lovely because it was true and was someone's life after all that was shared with us all\n"
     ]
    }
   ],
   "source": [
    "# If curious about the decoded text, set DECODE to True and run.\n",
    "# Only the first sample is decoded.\n",
    "DECODE = True\n",
    "if DECODE:\n",
    "        \n",
    "    word_index = imdb.get_word_index()\n",
    "    reverse_word_index = dict(\n",
    "        [(value, key) for (key, value) in word_index.items()])\n",
    "    decoded_review = \" \".join(\n",
    "        [reverse_word_index.get(i - 3, \"?\") for i in train_data[0]])\n",
    "\n",
    "    # See the decoded version of the encoded words from the imdb dataset\n",
    "    print(decoded_review)"
   ]
  },
  {
   "cell_type": "markdown",
   "metadata": {
    "colab_type": "text"
   },
   "source": [
    "### Preparing the data"
   ]
  },
  {
   "cell_type": "markdown",
   "metadata": {
    "colab_type": "text"
   },
   "source": [
    "**Encoding the integer sequences via multi-hot encoding**"
   ]
  },
  {
   "cell_type": "code",
   "execution_count": 29,
   "metadata": {
    "colab_type": "code"
   },
   "outputs": [],
   "source": [
    "\n",
    "def vectorize_sequences(sequences, dimension=10000):\n",
    "    results = np.zeros((len(sequences), dimension))\n",
    "    for i, sequence in enumerate(sequences):\n",
    "        for j in sequence:\n",
    "            results[i, j] = 1.\n",
    "    return results\n",
    "# create train and test datasets    \n",
    "x_train = vectorize_sequences(train_data)\n",
    "x_test = vectorize_sequences(test_data)\n",
    "\n",
    "# See multi-hot encoded vectorrized sequence\n",
    "# x_train[0]\n"
   ]
  },
  {
   "cell_type": "code",
   "execution_count": 30,
   "metadata": {
    "colab_type": "code"
   },
   "outputs": [],
   "source": [
    "# Cast as floats for training\n",
    "y_train = np.asarray(train_labels).astype(\"float32\")\n",
    "y_test = np.asarray(test_labels).astype(\"float32\")\n",
    "\n",
    "# Create train/validation split\n",
    "x_val = x_train[:10000]\n",
    "y_val = y_train[:10000]\n",
    "partial_x_train = x_train[10000:]\n",
    "partial_y_train = y_train[10000:]"
   ]
  },
  {
   "attachments": {},
   "cell_type": "markdown",
   "metadata": {
    "colab_type": "text"
   },
   "source": [
    "### Building your model using TensorBoard"
   ]
  },
  {
   "cell_type": "code",
   "execution_count": 31,
   "metadata": {},
   "outputs": [
    {
     "name": "stdout",
     "output_type": "stream",
     "text": [
      "imdb-model-1690832069 <- this will be your TensorBoard log file name.\n"
     ]
    }
   ],
   "source": [
    "# setup logging scheme\n",
    "MODEL = \"imdb-model-{}\".format(int(time.time()))\n",
    "\n",
    "# initialize callback (create logs directory first or model.fit will fail)\n",
    "tbcallback = TensorBoard(log_dir = \"logs/{}\".format(MODEL), histogram_freq=1)\n",
    "# windows?\n",
    "# tbcallback = TensorBoard(log_dir = \"logs\\{}\".format(MODEL), histogram_freq=1)\n",
    "\n",
    "print(MODEL + \" <- this will be your TensorBoard log file name.\")"
   ]
  },
  {
   "cell_type": "code",
   "execution_count": 32,
   "metadata": {
    "colab_type": "code"
   },
   "outputs": [
    {
     "name": "stdout",
     "output_type": "stream",
     "text": [
      "Epoch 1/20\n",
      "30/30 [==============================] - 4s 46ms/step - loss: 0.5183 - accuracy: 0.7911 - val_loss: 0.3960 - val_accuracy: 0.8615\n",
      "Epoch 2/20\n",
      "30/30 [==============================] - 1s 26ms/step - loss: 0.3254 - accuracy: 0.8905 - val_loss: 0.3133 - val_accuracy: 0.8851\n",
      "Epoch 3/20\n",
      "30/30 [==============================] - 1s 21ms/step - loss: 0.2422 - accuracy: 0.9213 - val_loss: 0.3075 - val_accuracy: 0.8745\n",
      "Epoch 4/20\n",
      "30/30 [==============================] - 1s 23ms/step - loss: 0.1997 - accuracy: 0.9340 - val_loss: 0.2751 - val_accuracy: 0.8884\n",
      "Epoch 5/20\n",
      "30/30 [==============================] - 1s 27ms/step - loss: 0.1650 - accuracy: 0.9463 - val_loss: 0.3163 - val_accuracy: 0.8701\n",
      "Epoch 6/20\n",
      "30/30 [==============================] - 1s 24ms/step - loss: 0.1404 - accuracy: 0.9551 - val_loss: 0.2965 - val_accuracy: 0.8792\n",
      "Epoch 7/20\n",
      "30/30 [==============================] - 1s 24ms/step - loss: 0.1221 - accuracy: 0.9619 - val_loss: 0.2917 - val_accuracy: 0.8840\n",
      "Epoch 8/20\n",
      "30/30 [==============================] - 1s 27ms/step - loss: 0.1005 - accuracy: 0.9710 - val_loss: 0.3070 - val_accuracy: 0.8806\n",
      "Epoch 9/20\n",
      "30/30 [==============================] - 1s 40ms/step - loss: 0.0877 - accuracy: 0.9763 - val_loss: 0.3194 - val_accuracy: 0.8830\n",
      "Epoch 10/20\n",
      "30/30 [==============================] - 1s 26ms/step - loss: 0.0751 - accuracy: 0.9797 - val_loss: 0.3599 - val_accuracy: 0.8781\n",
      "Epoch 11/20\n",
      "30/30 [==============================] - 1s 31ms/step - loss: 0.0598 - accuracy: 0.9861 - val_loss: 0.3648 - val_accuracy: 0.8729\n",
      "Epoch 12/20\n",
      "30/30 [==============================] - 1s 30ms/step - loss: 0.0553 - accuracy: 0.9857 - val_loss: 0.3833 - val_accuracy: 0.8789\n",
      "Epoch 13/20\n",
      "30/30 [==============================] - 1s 32ms/step - loss: 0.0447 - accuracy: 0.9904 - val_loss: 0.3983 - val_accuracy: 0.8759\n",
      "Epoch 14/20\n",
      "30/30 [==============================] - 1s 27ms/step - loss: 0.0376 - accuracy: 0.9930 - val_loss: 0.4250 - val_accuracy: 0.8695\n",
      "Epoch 15/20\n",
      "30/30 [==============================] - 1s 27ms/step - loss: 0.0295 - accuracy: 0.9962 - val_loss: 0.4516 - val_accuracy: 0.8755\n",
      "Epoch 16/20\n",
      "30/30 [==============================] - 1s 23ms/step - loss: 0.0267 - accuracy: 0.9959 - val_loss: 0.4599 - val_accuracy: 0.8720\n",
      "Epoch 17/20\n",
      "30/30 [==============================] - 1s 24ms/step - loss: 0.0202 - accuracy: 0.9978 - val_loss: 0.4832 - val_accuracy: 0.8742\n",
      "Epoch 18/20\n",
      "30/30 [==============================] - 1s 23ms/step - loss: 0.0181 - accuracy: 0.9979 - val_loss: 0.5178 - val_accuracy: 0.8676\n",
      "Epoch 19/20\n",
      "30/30 [==============================] - 1s 24ms/step - loss: 0.0159 - accuracy: 0.9969 - val_loss: 0.5527 - val_accuracy: 0.8635\n",
      "Epoch 20/20\n",
      "30/30 [==============================] - 1s 23ms/step - loss: 0.0093 - accuracy: 0.9997 - val_loss: 0.5466 - val_accuracy: 0.8695\n"
     ]
    },
    {
     "data": {
      "text/plain": [
       "<keras.callbacks.History at 0x7f5c5099b970>"
      ]
     },
     "execution_count": 32,
     "metadata": {},
     "output_type": "execute_result"
    }
   ],
   "source": [
    "# initialize a sequential fully connected network to address the ML problem\n",
    "model = keras.Sequential([\n",
    "    layers.Dense(16, activation=\"relu\", name=\"L1_16_Dense_RELU\"),\n",
    "    layers.Dense(16, activation=\"relu\", name=\"L2_16_Dense_RELU\"),\n",
    "    layers.Dense(1, activation=\"sigmoid\", name=\"L3_1_Dense_SIG\")\n",
    "])\n",
    "\n",
    "# Compile the network using your optmizier, loss, and metrics\n",
    "model.compile(optimizer=\"rmsprop\",\n",
    "              loss=\"binary_crossentropy\",\n",
    "              metrics=[\"accuracy\"])\n",
    "\n",
    "# Fit your model, including TensorBoard in the callback list\n",
    "model.fit(partial_x_train,\n",
    "          partial_y_train, \n",
    "          validation_data=(x_val, y_val),\n",
    "          epochs=20, \n",
    "          batch_size=512, \n",
    "          callbacks=[tbcallback])\n",
    "            "
   ]
  },
  {
   "attachments": {},
   "cell_type": "markdown",
   "metadata": {},
   "source": [
    "### Review TensorBoard output to evaluate how model performance.\n",
    "#### STOP and run all cells above and return to slides."
   ]
  },
  {
   "cell_type": "code",
   "execution_count": 33,
   "metadata": {},
   "outputs": [],
   "source": [
    "# In console, from directory containing the \"logs\" directory.\n",
    "# tensorboard --logdir logs"
   ]
  },
  {
   "attachments": {},
   "cell_type": "markdown",
   "metadata": {},
   "source": [
    "### Refit model with adjusted parameters and all training data."
   ]
  },
  {
   "cell_type": "code",
   "execution_count": 34,
   "metadata": {},
   "outputs": [
    {
     "name": "stdout",
     "output_type": "stream",
     "text": [
      "Epoch 1/5\n",
      "49/49 [==============================] - 2s 16ms/step - loss: 0.4648 - accuracy: 0.0000e+00 - prc: 0.8991\n",
      "Epoch 2/5\n",
      "49/49 [==============================] - 1s 14ms/step - loss: 0.2804 - accuracy: 0.0000e+00 - prc: 0.9601\n",
      "Epoch 3/5\n",
      "49/49 [==============================] - 1s 24ms/step - loss: 0.2191 - accuracy: 4.0000e-05 - prc: 0.9730\n",
      "Epoch 4/5\n",
      "49/49 [==============================] - 1s 20ms/step - loss: 0.1859 - accuracy: 4.0000e-05 - prc: 0.9802\n",
      "Epoch 5/5\n",
      "49/49 [==============================] - 1s 17ms/step - loss: 0.1635 - accuracy: 8.0000e-05 - prc: 0.9842\n"
     ]
    },
    {
     "data": {
      "text/plain": [
       "<keras.callbacks.History at 0x7f5c5856e310>"
      ]
     },
     "execution_count": 34,
     "metadata": {},
     "output_type": "execute_result"
    }
   ],
   "source": [
    "# Make any adjustments for your final model\n",
    "model = keras.Sequential([\n",
    "    layers.Dense(16, activation=\"relu\"),\n",
    "    layers.Dense(16, activation=\"relu\"),\n",
    "    layers.Dense(1, activation=\"sigmoid\")\n",
    "])\n",
    "\n",
    "# added in a Precision Recall curve metric\n",
    "metrics=[tf.keras.metrics.Accuracy(name='accuracy'),\n",
    "        tf.keras.metrics.AUC(name='prc', curve='PR')]\n",
    "\n",
    "\n",
    "# Compile the network using your optmizier, loss, and metrics\n",
    "model.compile(optimizer=\"rmsprop\",\n",
    "              loss=\"binary_crossentropy\",\n",
    "              metrics=metrics)\n",
    "\n",
    "# Update logging scheme\n",
    "MODEL = \"imdb-final-model-{}\".format(int(time.time()))\n",
    "tbcallback = TensorBoard(log_dir = \"logs/{}\".format(MODEL), histogram_freq=1)\n",
    "# tbcallback = TensorBoard(log_dir = \"logs\\{}\".format(MODEL), histogram_freq=1)\n",
    "\n",
    "# Refit your final model\n",
    "model.fit(x_train,                              # No longer partial_x_train\n",
    "          y_train,                              # No longer partial_y_train\n",
    "          epochs=5,                             # Changed to 5 epochs \n",
    "          batch_size=512, \n",
    "          callbacks=[tbcallback])\n",
    "            "
   ]
  },
  {
   "cell_type": "code",
   "execution_count": 35,
   "metadata": {
    "colab_type": "code"
   },
   "outputs": [
    {
     "name": "stdout",
     "output_type": "stream",
     "text": [
      "782/782 [==============================] - 4s 4ms/step - loss: 0.3011 - accuracy: 0.0000e+00 - prc: 0.9466\n"
     ]
    },
    {
     "data": {
      "text/plain": [
       "[0.30113643407821655, 0.0, 0.9465765953063965]"
      ]
     },
     "execution_count": 35,
     "metadata": {},
     "output_type": "execute_result"
    }
   ],
   "source": [
    "\n",
    "# Check how accurate the model is at predicting unseen observations\n",
    "results = model.evaluate(x_test, y_test)\n",
    "\n",
    "# A tuple containing loss, accuracy\n",
    "results"
   ]
  },
  {
   "cell_type": "markdown",
   "metadata": {
    "colab_type": "text"
   },
   "source": [
    "### Using a trained model to generate predictions on new data"
   ]
  },
  {
   "cell_type": "code",
   "execution_count": 36,
   "metadata": {
    "colab_type": "code"
   },
   "outputs": [
    {
     "name": "stdout",
     "output_type": "stream",
     "text": [
      "782/782 [==============================] - 2s 3ms/step\n"
     ]
    },
    {
     "data": {
      "text/plain": [
       "array([[0.15352003],\n",
       "       [0.9994136 ],\n",
       "       [0.6142619 ],\n",
       "       ...,\n",
       "       [0.06948411],\n",
       "       [0.04258515],\n",
       "       [0.49199113]], dtype=float32)"
      ]
     },
     "execution_count": 36,
     "metadata": {},
     "output_type": "execute_result"
    }
   ],
   "source": [
    "model.predict(x_test)"
   ]
  },
  {
   "attachments": {},
   "cell_type": "markdown",
   "metadata": {
    "colab_type": "text"
   },
   "source": [
    "# Part 2: Comparing multiple models"
   ]
  },
  {
   "cell_type": "markdown",
   "metadata": {
    "colab_type": "text"
   },
   "source": [
    "## Classifying newswires: A multiclass classification example"
   ]
  },
  {
   "cell_type": "markdown",
   "metadata": {
    "colab_type": "text"
   },
   "source": [
    "### The Reuters dataset"
   ]
  },
  {
   "cell_type": "code",
   "execution_count": 37,
   "metadata": {},
   "outputs": [],
   "source": [
    "import tensorflow as tf\n",
    "import numpy as np\n",
    "import time\n",
    "from tensorflow import keras\n",
    "from tensorflow.keras import layers\n",
    "from tensorflow.keras.callbacks import TensorBoard\n",
    "from tensorflow.keras.datasets import reuters"
   ]
  },
  {
   "cell_type": "markdown",
   "metadata": {
    "colab_type": "text"
   },
   "source": [
    "**Loading the Reuters dataset**"
   ]
  },
  {
   "cell_type": "code",
   "execution_count": 38,
   "metadata": {
    "colab_type": "code"
   },
   "outputs": [],
   "source": [
    "(train_data, train_labels), (test_data, test_labels) = reuters.load_data(\n",
    "    num_words=10000)\n",
    "\n",
    "#len(train_data)\n",
    "#len(test_data)\n",
    "#train_data[10]"
   ]
  },
  {
   "cell_type": "markdown",
   "metadata": {
    "colab_type": "text"
   },
   "source": [
    "**Decoding newswires back to text**"
   ]
  },
  {
   "cell_type": "code",
   "execution_count": 39,
   "metadata": {
    "colab_type": "code"
   },
   "outputs": [],
   "source": [
    "word_index = reuters.get_word_index()\n",
    "reverse_word_index = dict([(value, key) for (key, value) in word_index.items()])\n",
    "decoded_newswire = \" \".join([reverse_word_index.get(i - 3, \"?\") for i in\n",
    "    train_data[0]])\n",
    "\n",
    "#train_labels[10]"
   ]
  },
  {
   "cell_type": "markdown",
   "metadata": {
    "colab_type": "text"
   },
   "source": [
    "### Preparing the data"
   ]
  },
  {
   "attachments": {},
   "cell_type": "markdown",
   "metadata": {
    "colab_type": "text"
   },
   "source": [
    "**Encoding the input and labels & Splitting data**"
   ]
  },
  {
   "cell_type": "code",
   "execution_count": 40,
   "metadata": {
    "colab_type": "code"
   },
   "outputs": [],
   "source": [
    "def vectorize_sequences(sequences, dimension=10000):\n",
    "    results = np.zeros((len(sequences), dimension))\n",
    "    for i, sequence in enumerate(sequences):\n",
    "        for j in sequence:\n",
    "            results[i, j] = 1.\n",
    "    return results\n",
    "\n",
    "#Encode input\n",
    "x_train = vectorize_sequences(train_data)\n",
    "x_test = vectorize_sequences(test_data)\n",
    "\n",
    "#Encode labels\n",
    "def to_one_hot(labels, dimension=46):\n",
    "    results = np.zeros((len(labels), dimension))\n",
    "    for i, label in enumerate(labels):\n",
    "        results[i, label] = 1.\n",
    "    return results\n",
    "y_train = to_one_hot(train_labels)\n",
    "y_test = to_one_hot(test_labels)\n",
    "\n",
    "# import 1-hot encoding library\n",
    "from tensorflow.keras.utils import to_categorical\n",
    "y_train = to_categorical(train_labels)\n",
    "y_test = to_categorical(test_labels)\n",
    "\n",
    "#Set aside validation data\n",
    "x_val = x_train[:1000]\n",
    "partial_x_train = x_train[1000:]\n",
    "y_val = y_train[:1000]\n",
    "partial_y_train = y_train[1000:]"
   ]
  },
  {
   "cell_type": "markdown",
   "metadata": {
    "colab_type": "text"
   },
   "source": [
    "### Building your model"
   ]
  },
  {
   "cell_type": "markdown",
   "metadata": {
    "colab_type": "text"
   },
   "source": [
    "**Model definition**"
   ]
  },
  {
   "cell_type": "code",
   "execution_count": 41,
   "metadata": {
    "colab_type": "code"
   },
   "outputs": [],
   "source": [
    "# Create two models, the only difference is hidden layer activations\n",
    "\n",
    "model1 = keras.Sequential([\n",
    "    layers.Dense(64, activation=\"tanh\"),\n",
    "    layers.Dense(64, activation=\"tanh\"),\n",
    "    layers.Dense(46, activation=\"softmax\")\n",
    "])\n",
    "\n",
    "model2 = keras.Sequential([\n",
    "    layers.Dense(64, activation=\"relu\"),\n",
    "    layers.Dense(64, activation=\"relu\"),\n",
    "    layers.Dense(46, activation=\"softmax\")\n",
    "])"
   ]
  },
  {
   "cell_type": "markdown",
   "metadata": {
    "colab_type": "text"
   },
   "source": [
    "**Compiling the model**"
   ]
  },
  {
   "cell_type": "code",
   "execution_count": 42,
   "metadata": {
    "colab_type": "code"
   },
   "outputs": [],
   "source": [
    "model1.compile(optimizer=\"rmsprop\",\n",
    "              loss=\"categorical_crossentropy\",\n",
    "              metrics=[\"accuracy\"])\n",
    "\n",
    "model2.compile(optimizer=\"rmsprop\",\n",
    "              loss=\"categorical_crossentropy\",\n",
    "              metrics=[\"accuracy\"])"
   ]
  },
  {
   "cell_type": "markdown",
   "metadata": {
    "colab_type": "text"
   },
   "source": [
    "**Training the model**"
   ]
  },
  {
   "cell_type": "code",
   "execution_count": 43,
   "metadata": {
    "colab_type": "code"
   },
   "outputs": [
    {
     "name": "stdout",
     "output_type": "stream",
     "text": [
      "Epoch 1/20\n",
      "16/16 [==============================] - 3s 53ms/step - loss: 2.3751 - accuracy: 0.5311 - val_loss: 1.6892 - val_accuracy: 0.6190\n",
      "Epoch 2/20\n",
      "16/16 [==============================] - 1s 36ms/step - loss: 1.4538 - accuracy: 0.6797 - val_loss: 1.3205 - val_accuracy: 0.7040\n",
      "Epoch 3/20\n",
      "16/16 [==============================] - 1s 46ms/step - loss: 1.1267 - accuracy: 0.7529 - val_loss: 1.1329 - val_accuracy: 0.7600\n",
      "Epoch 4/20\n",
      "16/16 [==============================] - 1s 33ms/step - loss: 0.9108 - accuracy: 0.8117 - val_loss: 1.0265 - val_accuracy: 0.7880\n",
      "Epoch 5/20\n",
      "16/16 [==============================] - 0s 30ms/step - loss: 0.7439 - accuracy: 0.8543 - val_loss: 0.9402 - val_accuracy: 0.8010\n",
      "Epoch 6/20\n",
      "16/16 [==============================] - 1s 43ms/step - loss: 0.6115 - accuracy: 0.8807 - val_loss: 0.8921 - val_accuracy: 0.8180\n",
      "Epoch 7/20\n",
      "16/16 [==============================] - 1s 63ms/step - loss: 0.5033 - accuracy: 0.9045 - val_loss: 0.8475 - val_accuracy: 0.8240\n",
      "Epoch 8/20\n",
      "16/16 [==============================] - 1s 65ms/step - loss: 0.4170 - accuracy: 0.9213 - val_loss: 0.8316 - val_accuracy: 0.8180\n",
      "Epoch 9/20\n",
      "16/16 [==============================] - 1s 48ms/step - loss: 0.3478 - accuracy: 0.9349 - val_loss: 0.8223 - val_accuracy: 0.8240\n",
      "Epoch 10/20\n",
      "16/16 [==============================] - 1s 39ms/step - loss: 0.2921 - accuracy: 0.9417 - val_loss: 0.8149 - val_accuracy: 0.8220\n",
      "Epoch 11/20\n",
      "16/16 [==============================] - 1s 35ms/step - loss: 0.2502 - accuracy: 0.9456 - val_loss: 0.8303 - val_accuracy: 0.8120\n",
      "Epoch 12/20\n",
      "16/16 [==============================] - 1s 33ms/step - loss: 0.2184 - accuracy: 0.9508 - val_loss: 0.8170 - val_accuracy: 0.8230\n",
      "Epoch 13/20\n",
      "16/16 [==============================] - 1s 59ms/step - loss: 0.1900 - accuracy: 0.9536 - val_loss: 0.8395 - val_accuracy: 0.8210\n",
      "Epoch 14/20\n",
      "16/16 [==============================] - 1s 33ms/step - loss: 0.1682 - accuracy: 0.9545 - val_loss: 0.8518 - val_accuracy: 0.8030\n",
      "Epoch 15/20\n",
      "16/16 [==============================] - 1s 38ms/step - loss: 0.1513 - accuracy: 0.9562 - val_loss: 0.8664 - val_accuracy: 0.8110\n",
      "Epoch 16/20\n",
      "16/16 [==============================] - 1s 33ms/step - loss: 0.1408 - accuracy: 0.9554 - val_loss: 0.8582 - val_accuracy: 0.8120\n",
      "Epoch 17/20\n",
      "16/16 [==============================] - 1s 39ms/step - loss: 0.1295 - accuracy: 0.9579 - val_loss: 0.8645 - val_accuracy: 0.8100\n",
      "Epoch 18/20\n",
      "16/16 [==============================] - 1s 33ms/step - loss: 0.1212 - accuracy: 0.9578 - val_loss: 0.8772 - val_accuracy: 0.8050\n",
      "Epoch 19/20\n",
      "16/16 [==============================] - 1s 43ms/step - loss: 0.1156 - accuracy: 0.9562 - val_loss: 0.8857 - val_accuracy: 0.8130\n",
      "Epoch 20/20\n",
      "16/16 [==============================] - 1s 42ms/step - loss: 0.1097 - accuracy: 0.9570 - val_loss: 0.8930 - val_accuracy: 0.8100\n",
      "Epoch 1/20\n",
      "16/16 [==============================] - 2s 49ms/step - loss: 2.7388 - accuracy: 0.5038 - val_loss: 1.8292 - val_accuracy: 0.6020\n",
      "Epoch 2/20\n",
      "16/16 [==============================] - 0s 30ms/step - loss: 1.5556 - accuracy: 0.6556 - val_loss: 1.3953 - val_accuracy: 0.6790\n",
      "Epoch 3/20\n",
      "16/16 [==============================] - 1s 37ms/step - loss: 1.1960 - accuracy: 0.7255 - val_loss: 1.1802 - val_accuracy: 0.7300\n",
      "Epoch 4/20\n",
      "16/16 [==============================] - 1s 40ms/step - loss: 0.9782 - accuracy: 0.7840 - val_loss: 1.0830 - val_accuracy: 0.7570\n",
      "Epoch 5/20\n",
      "16/16 [==============================] - 1s 33ms/step - loss: 0.8163 - accuracy: 0.8207 - val_loss: 1.0143 - val_accuracy: 0.7790\n",
      "Epoch 6/20\n",
      "16/16 [==============================] - 1s 38ms/step - loss: 0.6798 - accuracy: 0.8545 - val_loss: 0.9553 - val_accuracy: 0.7890\n",
      "Epoch 7/20\n",
      "16/16 [==============================] - 1s 40ms/step - loss: 0.5694 - accuracy: 0.8779 - val_loss: 0.9231 - val_accuracy: 0.7940\n",
      "Epoch 8/20\n",
      "16/16 [==============================] - 0s 32ms/step - loss: 0.4793 - accuracy: 0.8971 - val_loss: 0.8895 - val_accuracy: 0.8170\n",
      "Epoch 9/20\n",
      "16/16 [==============================] - 1s 34ms/step - loss: 0.4040 - accuracy: 0.9134 - val_loss: 0.9008 - val_accuracy: 0.8110\n",
      "Epoch 10/20\n",
      "16/16 [==============================] - 1s 35ms/step - loss: 0.3445 - accuracy: 0.9257 - val_loss: 0.8944 - val_accuracy: 0.8020\n",
      "Epoch 11/20\n",
      "16/16 [==============================] - 1s 37ms/step - loss: 0.3037 - accuracy: 0.9355 - val_loss: 0.9223 - val_accuracy: 0.8010\n",
      "Epoch 12/20\n",
      "16/16 [==============================] - 1s 42ms/step - loss: 0.2598 - accuracy: 0.9422 - val_loss: 0.8771 - val_accuracy: 0.8150\n",
      "Epoch 13/20\n",
      "16/16 [==============================] - 1s 33ms/step - loss: 0.2330 - accuracy: 0.9460 - val_loss: 0.8981 - val_accuracy: 0.8090\n",
      "Epoch 14/20\n",
      "16/16 [==============================] - 1s 36ms/step - loss: 0.2074 - accuracy: 0.9479 - val_loss: 0.8909 - val_accuracy: 0.8190\n",
      "Epoch 15/20\n",
      "16/16 [==============================] - 1s 39ms/step - loss: 0.1901 - accuracy: 0.9509 - val_loss: 0.9180 - val_accuracy: 0.8210\n",
      "Epoch 16/20\n",
      "16/16 [==============================] - 1s 38ms/step - loss: 0.1755 - accuracy: 0.9529 - val_loss: 0.9150 - val_accuracy: 0.8100\n",
      "Epoch 17/20\n",
      "16/16 [==============================] - 1s 40ms/step - loss: 0.1584 - accuracy: 0.9544 - val_loss: 0.9153 - val_accuracy: 0.8260\n",
      "Epoch 18/20\n",
      "16/16 [==============================] - 1s 49ms/step - loss: 0.1550 - accuracy: 0.9544 - val_loss: 0.9320 - val_accuracy: 0.8120\n",
      "Epoch 19/20\n",
      "16/16 [==============================] - 1s 40ms/step - loss: 0.1440 - accuracy: 0.9557 - val_loss: 0.9568 - val_accuracy: 0.8110\n",
      "Epoch 20/20\n",
      "16/16 [==============================] - 1s 37ms/step - loss: 0.1411 - accuracy: 0.9560 - val_loss: 0.9690 - val_accuracy: 0.8070\n"
     ]
    }
   ],
   "source": [
    "# setup logging scheme for model1\n",
    "MODEL = \"mod1-reuters-{}\".format(int(time.time()))\n",
    "tbcallback = TensorBoard(log_dir = \"logs/{}\".format(MODEL), histogram_freq=1)\n",
    "#tbcallback = TensorBoard(log_dir = \"logs\\{}\".format(MODEL), histogram_freq=1)\n",
    "\n",
    "history1 = model1.fit(partial_x_train,\n",
    "                    partial_y_train,\n",
    "                    epochs=20,\n",
    "                    batch_size=512,\n",
    "                    validation_data=(x_val, y_val),\n",
    "                    callbacks=[tbcallback])\n",
    "\n",
    "MODEL = \"mod2-reuters-{}\".format(int(time.time()))\n",
    "tbcallback = TensorBoard(log_dir = \"logs/{}\".format(MODEL), histogram_freq=1)\n",
    "#tbcallback = TensorBoard(log_dir = \"logs\\{}\".format(MODEL), histogram_freq=1)\n",
    "\n",
    "history2 = model2.fit(partial_x_train,\n",
    "                    partial_y_train,\n",
    "                    epochs=20,\n",
    "                    batch_size=512,\n",
    "                    validation_data=(x_val, y_val),\n",
    "                    callbacks=[tbcallback])"
   ]
  },
  {
   "attachments": {},
   "cell_type": "markdown",
   "metadata": {},
   "source": [
    "### STOP and return to slide to discuss."
   ]
  },
  {
   "cell_type": "markdown",
   "metadata": {
    "colab_type": "text"
   },
   "source": [
    "**Retraining a model from scratch**"
   ]
  },
  {
   "cell_type": "code",
   "execution_count": 44,
   "metadata": {
    "colab_type": "code"
   },
   "outputs": [
    {
     "name": "stdout",
     "output_type": "stream",
     "text": [
      "Epoch 1/9\n",
      "18/18 [==============================] - 2s 34ms/step - loss: 2.6303 - accuracy: 0.4745\n",
      "Epoch 2/9\n",
      "18/18 [==============================] - 1s 29ms/step - loss: 1.4772 - accuracy: 0.6867\n",
      "Epoch 3/9\n",
      "18/18 [==============================] - 1s 29ms/step - loss: 1.1435 - accuracy: 0.7476\n",
      "Epoch 4/9\n",
      "18/18 [==============================] - 1s 36ms/step - loss: 0.9305 - accuracy: 0.7956\n",
      "Epoch 5/9\n",
      "18/18 [==============================] - 0s 27ms/step - loss: 0.7740 - accuracy: 0.8320\n",
      "Epoch 6/9\n",
      "18/18 [==============================] - 1s 30ms/step - loss: 0.6491 - accuracy: 0.8605\n",
      "Epoch 7/9\n",
      "18/18 [==============================] - 1s 52ms/step - loss: 0.5437 - accuracy: 0.8838\n",
      "Epoch 8/9\n",
      "18/18 [==============================] - 0s 23ms/step - loss: 0.4539 - accuracy: 0.9020\n",
      "Epoch 9/9\n",
      "18/18 [==============================] - 1s 33ms/step - loss: 0.3876 - accuracy: 0.9151\n",
      "71/71 [==============================] - 0s 4ms/step - loss: 0.9537 - accuracy: 0.7850\n"
     ]
    }
   ],
   "source": [
    "MODEL = \"final-reuters-{}\".format(int(time.time()))\n",
    "tbcallback = TensorBoard(log_dir = \"logs/{}\".format(MODEL), histogram_freq=1)\n",
    "#tbcallback = TensorBoard(log_dir = \"logs\\{}\".format(MODEL), histogram_freq=1)\n",
    "\n",
    "model = keras.Sequential([\n",
    "  layers.Dense(64, activation=\"relu\"),\n",
    "  layers.Dense(64, activation=\"relu\"),\n",
    "  layers.Dense(46, activation=\"softmax\")\n",
    "])\n",
    "model.compile(optimizer=\"rmsprop\",\n",
    "              loss=\"categorical_crossentropy\",\n",
    "              metrics=[\"accuracy\"])\n",
    "\n",
    "model.fit(x_train,\n",
    "          y_train,\n",
    "          epochs=9,\n",
    "          batch_size=512,\n",
    "          callbacks=[tbcallback])\n",
    "          \n",
    "results = model.evaluate(x_test, y_test)\n"
   ]
  },
  {
   "cell_type": "code",
   "execution_count": 45,
   "metadata": {
    "colab_type": "code"
   },
   "outputs": [
    {
     "data": {
      "text/plain": [
       "[0.9536928534507751, 0.7849510312080383]"
      ]
     },
     "execution_count": 45,
     "metadata": {},
     "output_type": "execute_result"
    }
   ],
   "source": [
    "results"
   ]
  },
  {
   "cell_type": "code",
   "execution_count": 46,
   "metadata": {
    "colab_type": "code"
   },
   "outputs": [
    {
     "data": {
      "text/plain": [
       "0.1918967052537845"
      ]
     },
     "execution_count": 46,
     "metadata": {},
     "output_type": "execute_result"
    }
   ],
   "source": [
    "import copy\n",
    "test_labels_copy = copy.copy(test_labels)\n",
    "np.random.shuffle(test_labels_copy)\n",
    "hits_array = np.array(test_labels) == np.array(test_labels_copy)\n",
    "hits_array.mean()"
   ]
  },
  {
   "cell_type": "markdown",
   "metadata": {
    "colab_type": "text"
   },
   "source": [
    "### Generating predictions on new data"
   ]
  },
  {
   "cell_type": "code",
   "execution_count": 47,
   "metadata": {
    "colab_type": "code"
   },
   "outputs": [
    {
     "name": "stdout",
     "output_type": "stream",
     "text": [
      "71/71 [==============================] - 0s 2ms/step\n"
     ]
    }
   ],
   "source": [
    "predictions = model.predict(x_test)"
   ]
  },
  {
   "cell_type": "code",
   "execution_count": 48,
   "metadata": {
    "colab_type": "code"
   },
   "outputs": [
    {
     "data": {
      "text/plain": [
       "(46,)"
      ]
     },
     "execution_count": 48,
     "metadata": {},
     "output_type": "execute_result"
    }
   ],
   "source": [
    "predictions[0].shape"
   ]
  },
  {
   "cell_type": "code",
   "execution_count": 49,
   "metadata": {
    "colab_type": "code"
   },
   "outputs": [
    {
     "data": {
      "text/plain": [
       "0.99999994"
      ]
     },
     "execution_count": 49,
     "metadata": {},
     "output_type": "execute_result"
    }
   ],
   "source": [
    "np.sum(predictions[0])"
   ]
  },
  {
   "cell_type": "code",
   "execution_count": 50,
   "metadata": {
    "colab_type": "code"
   },
   "outputs": [
    {
     "data": {
      "text/plain": [
       "3"
      ]
     },
     "execution_count": 50,
     "metadata": {},
     "output_type": "execute_result"
    }
   ],
   "source": [
    "np.argmax(predictions[0])"
   ]
  }
 ],
 "metadata": {
  "colab": {
   "collapsed_sections": [],
   "name": "chapter04_getting-started-with-neural-networks.i",
   "private_outputs": false,
   "provenance": [],
   "toc_visible": true
  },
  "kernelspec": {
   "display_name": "Python 3",
   "language": "python",
   "name": "python3"
  },
  "language_info": {
   "codemirror_mode": {
    "name": "ipython",
    "version": 3
   },
   "file_extension": ".py",
   "mimetype": "text/x-python",
   "name": "python",
   "nbconvert_exporter": "python",
   "pygments_lexer": "ipython3",
   "version": "3.8.10"
  }
 },
 "nbformat": 4,
 "nbformat_minor": 0
}
